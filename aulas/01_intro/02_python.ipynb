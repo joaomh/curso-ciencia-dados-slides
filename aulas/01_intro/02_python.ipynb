{
 "cells": [
  {
   "cell_type": "markdown",
   "id": "cca8432f-68ef-4ac2-ab6c-4bbcaa7e0421",
   "metadata": {},
   "source": [
    "# Introdução ao Python para Ciência de Dados e Inteligência Artificial"
   ]
  },
  {
   "cell_type": "markdown",
   "id": "490c0a0e-d4fe-413d-b8bf-5403dfdd925e",
   "metadata": {},
   "source": [
    "* Python foi criado por Guido van Rossum, um programador holandês, no final dos anos 1980.\n",
    "\n",
    "* Guido começou a trabalhar no Python como um projeto de hobby durante o Natal de 1989. Ele queria criar uma linguagem que fosse fácil de ler e escrever e com capacidade de lidar com tarefas complexas (como sucessor da linguagem ABC)\n",
    "\n",
    "* A primeira versão pública do Python (0.9.0) foi lançada em 1991."
   ]
  },
  {
   "cell_type": "markdown",
   "id": "12a6b626-de8b-4180-b5a6-8ca2f188758c",
   "metadata": {},
   "source": [
    "**Python é uma linguagem de programação multiparadigma**: Isso significa que o Python suporta vários estilos ou \"paradigmas\" de programação. Um paradigma é uma forma de pensar e estruturar o código. O Python não se limita a um único estilo, permitindo que os desenvolvedores escolham o melhor paradigma para cada situação."
   ]
  },
  {
   "cell_type": "markdown",
   "id": "9bb2f7c0-671e-4a0c-a8b3-d7a63a1576dd",
   "metadata": {},
   "source": [
    "**Programação Orientada a Objetos (POO)**:  Python permite criar classes e objetos, encapsulamento, herança e polimorfismo."
   ]
  },
  {
   "cell_type": "code",
   "execution_count": 3,
   "id": "908bc463-b65a-40a0-be24-8e1bc023f39a",
   "metadata": {},
   "outputs": [],
   "source": [
    "class Animal:\n",
    "    def __init__(self, nome):\n",
    "        self.nome = nome\n",
    "    def falar(self):\n",
    "        pass"
   ]
  },
  {
   "cell_type": "markdown",
   "id": "813c75ed-44ed-47ab-9852-6e4201f96d2a",
   "metadata": {},
   "source": [
    "**Programação Estruturada**: Python suporta estruturas de controle como loops ```(for, while)``` ( e condicionais ```((if, else)```(, que são características da programação estruturada."
   ]
  },
  {
   "cell_type": "code",
   "execution_count": 6,
   "id": "c81a04ce-9e68-4bdc-97f5-369c108faf9c",
   "metadata": {},
   "outputs": [
    {
     "name": "stdin",
     "output_type": "stream",
     "text": [
      "Digite seu nome:  Joao\n",
      "Digite sua idade:  21\n"
     ]
    },
    {
     "name": "stdout",
     "output_type": "stream",
     "text": [
      "Olá, Joao! Você é maior de idade.\n"
     ]
    }
   ],
   "source": [
    "# Programa de boas-vindas\n",
    "def main():\n",
    "    # Entrada de dados\n",
    "    nome = input(\"Digite seu nome: \")\n",
    "    idade = int(input(\"Digite sua idade: \"))\n",
    "    \n",
    "    # Condicional para verificar a idade\n",
    "    if idade >= 18:\n",
    "        mensagem = f\"Olá, {nome}! Você é maior de idade.\"\n",
    "    else:\n",
    "        mensagem = f\"Olá, {nome}! Você é menor de idade.\"\n",
    "    \n",
    "    # Saída de dados\n",
    "    print(mensagem)\n",
    "\n",
    "# Chamada da função principal\n",
    "main()"
   ]
  },
  {
   "cell_type": "markdown",
   "id": "79fd4336-79b9-4e7e-92ea-e00b60bcb25f",
   "metadata": {},
   "source": [
    "**Programação Funcional**: Python suporta funções de primeira classe (funções que podem ser passadas como argumentos), funções anônimas (```lambda```) e operações como ```map```, ```filter``` e ```reduce```. Exemplo:"
   ]
  },
  {
   "cell_type": "code",
   "execution_count": 7,
   "id": "5ab4e98e-dc8e-4d8b-91a6-c381eae240bf",
   "metadata": {},
   "outputs": [],
   "source": [
    "lista = [1, 2, 3, 4]\n",
    "dobrado = list(map(lambda x: x * 2, lista))  # [2, 4, 6, 8]"
   ]
  },
  {
   "cell_type": "markdown",
   "id": "7b2be4e2-c922-4ee1-ab02-266cf3d1d824",
   "metadata": {},
   "source": [
    "Python é conhecido por sua capacidade de \"colar\" diferentes sistemas ou componentes. Por exemplo, você pode chamar código C/C++ usando ctypes ou Cython, ou integrar Python com Java usando Jython. Isso torna Python ideal para sistemas que combinam várias tecnologias."
   ]
  },
  {
   "cell_type": "markdown",
   "id": "e9ad1d73-f69c-4d6d-a9c0-b7590f0eb874",
   "metadata": {},
   "source": [
    "Ele usa resolução dinâmica de nomes (late binding), que vincula nomes de métodos e variáveis durante a execução do programa. Ou seja, os nomes de variáveis e métodos são resolvidos em tempo de execução, não em tempo de compilação. Isso permite maior flexibilidade, como a criação dinâmica de atributos ou métodos. Exemplo:"
   ]
  },
  {
   "cell_type": "code",
   "execution_count": null,
   "id": "4aaa2160-a53b-4c36-b87e-f3687899d15d",
   "metadata": {},
   "outputs": [],
   "source": [
    "class Exemplo:\n",
    "    pass\n",
    "\n",
    "obj = Exemplo()\n",
    "obj.novo_atributo = 42  # Atributo criado dinamicamente"
   ]
  },
  {
   "cell_type": "markdown",
   "id": "e572141f-29a1-495e-ba99-495cf4afc0af",
   "metadata": {},
   "source": [
    "# Introdução ao Python e Sintaxe Básica"
   ]
  },
  {
   "cell_type": "markdown",
   "id": "9966fb28-dfab-4df6-94ea-807d22d42059",
   "metadata": {},
   "source": [
    "# Linha de comando"
   ]
  },
  {
   "cell_type": "markdown",
   "id": "8fbf0d67-1a14-410b-8100-325c3a642867",
   "metadata": {},
   "source": [
    "# jupyter-notebook"
   ]
  },
  {
   "cell_type": "markdown",
   "id": "60e72427-f223-42f2-abff-27f35121b8b7",
   "metadata": {},
   "source": [
    "# identacao (ctl+enteder)"
   ]
  },
  {
   "cell_type": "markdown",
   "id": "9d72d979-139d-4ab6-bb36-65d02702a7a0",
   "metadata": {},
   "source": [
    "# comentarios"
   ]
  },
  {
   "cell_type": "code",
   "execution_count": null,
   "id": "80db3ba2-1ffe-4d84-a626-0e97462af3b8",
   "metadata": {},
   "outputs": [],
   "source": []
  },
  {
   "cell_type": "markdown",
   "id": "3864928d-dfe3-432e-8cac-aa5df8fab83a",
   "metadata": {},
   "source": [
    "### Exemplo de variáveis"
   ]
  },
  {
   "cell_type": "code",
   "execution_count": null,
   "id": "951589b7-41a5-4051-8b18-c4c8510f8ad5",
   "metadata": {},
   "outputs": [],
   "source": [
    "# Exemplos de variáveis\n",
    "nome = \"João\"  # string (texto)\n",
    "idade = 25     # inteiro\n",
    "altura = 1.75  # float (número decimal)\n",
    "estudante = True  # booleano (True ou False)\n",
    "\n",
    "# Exibindo os valores\n",
    "print(\"Nome:\", nome)\n",
    "print(\"Idade:\", idade)\n",
    "print(\"Altura:\", altura)\n",
    "print(\"É estudante?\", estudante)"
   ]
  },
  {
   "cell_type": "markdown",
   "id": "e41222a9-9c80-4ec2-a8cb-662eb9857555",
   "metadata": {},
   "source": [
    "regras para variaveis"
   ]
  },
  {
   "cell_type": "markdown",
   "id": "c80d0bd6-0618-4030-bba1-3f5b0f48a86f",
   "metadata": {},
   "source": [
    "veririar tipos"
   ]
  },
  {
   "cell_type": "markdown",
   "id": "c74e3da0-78cd-42cc-b7a9-228635e45531",
   "metadata": {},
   "source": [
    "Numeros"
   ]
  },
  {
   "cell_type": "markdown",
   "id": "d9d53a6e-6efd-4c7e-8d25-55b852408e38",
   "metadata": {},
   "source": [
    "Conversao"
   ]
  },
  {
   "cell_type": "markdown",
   "id": "743a4f1e-6294-473d-a263-396940af0ec8",
   "metadata": {},
   "source": [
    "String sao listas de bytes\n",
    "\n",
    "string upper, lowwer, count, split, replace"
   ]
  },
  {
   "cell_type": "code",
   "execution_count": null,
   "id": "16e94244-faca-403a-ba7a-70a8a258b33f",
   "metadata": {},
   "outputs": [],
   "source": [
    "Booleanos"
   ]
  },
  {
   "cell_type": "code",
   "execution_count": null,
   "id": "b6a0727b-2c70-48ba-a88b-c250b2ff1204",
   "metadata": {},
   "outputs": [],
   "source": [
    "Outros Operadores"
   ]
  },
  {
   "cell_type": "markdown",
   "id": "620835d0-148f-40d7-8107-a0c2e75a5caa",
   "metadata": {},
   "source": [
    "# Operadores aritméticos"
   ]
  },
  {
   "cell_type": "code",
   "execution_count": null,
   "id": "2285e52f-163b-4238-8951-cdf1ffbcf6af",
   "metadata": {},
   "outputs": [],
   "source": [
    "# Operadores aritméticos\n",
    "soma = 10 + 5\n",
    "subtracao = 10 - 5\n",
    "multiplicacao = 10 * 5\n",
    "divisao = 10 / 5\n",
    "\n",
    "print(\"Soma:\", soma)\n",
    "print(\"Subtração:\", subtracao)\n",
    "print(\"Multiplicação:\", multiplicacao)\n",
    "print(\"Divisão:\", divisao)\n",
    "\n",
    "# Operadores de comparação\n",
    "maior = 10 > 5\n",
    "igual = 10 == 5\n",
    "diferente = 10 != 5\n",
    "\n",
    "print(\"10 é maior que 5?\", maior)\n",
    "print(\"10 é igual a 5?\", igual)\n",
    "print(\"10 é diferente de 5?\", diferente)"
   ]
  },
  {
   "cell_type": "markdown",
   "id": "7251ebe7-c14a-4439-8d95-16e726df42b0",
   "metadata": {},
   "source": [
    "if, else, and etc"
   ]
  },
  {
   "cell_type": "code",
   "execution_count": null,
   "id": "7149ca58-5714-452a-8213-23499a0362ba",
   "metadata": {},
   "outputs": [],
   "source": [
    "# Verificando se um número é positivo, negativo ou zero\n",
    "numero = float(input(\"Digite um número: \"))\n",
    "\n",
    "if numero > 0:\n",
    "    print(\"O número é positivo.\")\n",
    "elif numero < 0:\n",
    "    print(\"O número é negativo.\")\n",
    "else:\n",
    "    print(\"O número é zero.\")"
   ]
  },
  {
   "cell_type": "markdown",
   "id": "3cd70cb3-5671-4227-8531-4ffca5d42d8d",
   "metadata": {},
   "source": [
    "Loops While"
   ]
  },
  {
   "cell_type": "markdown",
   "id": "84c4d996-043f-4fa8-a4fa-9043bd43c1f3",
   "metadata": {},
   "source": [
    "Loops For"
   ]
  },
  {
   "cell_type": "code",
   "execution_count": null,
   "id": "4bc5fac8-ee53-41d0-90d4-6f418351f252",
   "metadata": {},
   "outputs": [],
   "source": [
    "# Loop for: Imprimir números de 1 a 5\n",
    "for i in range(1, 6):\n",
    "    print(i)\n",
    "\n",
    "# Loop while: Contagem regressiva de 5 a 1\n",
    "contador = 5\n",
    "while contador > 0:\n",
    "    print(contador)\n",
    "    contador -= 1"
   ]
  },
  {
   "cell_type": "code",
   "execution_count": null,
   "id": "1bbb5b65-acf5-46cf-9ee7-8a5dbf4b5d35",
   "metadata": {},
   "outputs": [],
   "source": [
    "# Programa que pede dois números e exibe o maior\n",
    "num1 = float(input(\"Digite o primeiro número: \"))\n",
    "num2 = float(input(\"Digite o segundo número: \"))\n",
    "\n",
    "if num1 > num2:\n",
    "    print(f\"O maior número é: {num1}\")\n",
    "else:\n",
    "    print(f\"O maior número é: {num2}\")"
   ]
  },
  {
   "cell_type": "markdown",
   "id": "65da4cb1-94ce-4c16-a984-d4d1e657f631",
   "metadata": {},
   "source": [
    "funcões (type, len, int)"
   ]
  },
  {
   "cell_type": "markdown",
   "id": "7cef87d7-fa90-4f98-b6d1-6f4cff51b23e",
   "metadata": {},
   "source": [
    "definindo funcoes com parametros opcionais"
   ]
  },
  {
   "cell_type": "code",
   "execution_count": null,
   "id": "47a98506-e4e5-4c07-827d-a3e8d67accc2",
   "metadata": {},
   "outputs": [],
   "source": [
    "Instalando pacotes no python"
   ]
  },
  {
   "cell_type": "code",
   "execution_count": null,
   "id": "ea2354df-b586-49fb-8173-185e39e29fb6",
   "metadata": {},
   "outputs": [],
   "source": [
    "Importando pacotes no python"
   ]
  },
  {
   "cell_type": "markdown",
   "id": "9ce6bc07-c608-40c5-8704-f4a9c7a5a99b",
   "metadata": {},
   "source": [
    "\n",
    "## Descrição das Estruturas\n",
    "\n",
    "### 1. Listas\n",
    "- **O que são?**: Coleções **ordenadas** e **mutáveis** de itens.\n",
    "- Podem armazenar diferentes tipos de dados.\n",
    "- Acesso por índice (`lista[0]`).\n",
    "- **Quando usar?**: Para coleções ordenadas que podem ser modificadas (ex: lista de compras)."
   ]
  },
  {
   "cell_type": "code",
   "execution_count": null,
   "id": "f350dfe5-bea9-4bba-9fe8-e45db09c27d5",
   "metadata": {},
   "outputs": [],
   "source": [
    "Range?"
   ]
  },
  {
   "cell_type": "code",
   "execution_count": null,
   "id": "cea8d952-5ac3-48b2-b1f0-647d1b517737",
   "metadata": {},
   "outputs": [],
   "source": [
    "# Criando uma lista\n",
    "frutas = [\"maçã\", \"banana\", \"laranja\"]\n",
    "\n",
    "# Acessando elementos\n",
    "print(\"Primeira fruta:\", frutas[0])\n",
    "print(\"Última fruta:\", frutas[-1])\n",
    "\n",
    "# Adicionando e removendo itens\n",
    "frutas.append(\"uva\")  # Adiciona \"uva\" no final\n",
    "frutas.remove(\"banana\")  # Remove \"banana\"\n",
    "\n",
    "# Tamanho da lista\n",
    "print(\"Número de frutas:\", len(frutas))\n",
    "\n",
    "# Ordenando a lista\n",
    "frutas.sort()\n",
    "print(\"Frutas ordenadas:\", frutas)"
   ]
  },
  {
   "cell_type": "markdown",
   "id": "dfa025e5-c0d7-405f-a448-6b7b1903530c",
   "metadata": {},
   "source": [
    "### **2. Arrays**\n",
    "\n",
    "### **O que são?**\n",
    "- **Arrays** são estruturas semelhantes a listas, mas são otimizadas para armazenar **dados do mesmo tipo** (ex: apenas números).\n",
    "- Em Python, arrays são fornecidos pela biblioteca **NumPy**.\n",
    "- São mais eficientes para operações matemáticas e científicas."
   ]
  },
  {
   "cell_type": "markdown",
   "id": "3bb4dcda-8b5e-4f07-aa92-a6a42a55c68c",
   "metadata": {},
   "source": [
    "### **Características**:\n",
    "- **Homogêneos**: Todos os elementos devem ser do mesmo tipo.\n",
    "- **Eficientes**: Operações matemáticas são mais rápidas do que em listas.\n",
    "- **Funcionalidades avançadas**: Suportam operações vetoriais (ex: soma de arrays).\n",
    "- **Quando usar?**: Para cálculos científicos ou matemáticos (ex: processamento de imagens)."
   ]
  },
  {
   "cell_type": "code",
   "execution_count": null,
   "id": "935f30f7-17b3-4fbc-9309-9f878388bd2e",
   "metadata": {},
   "outputs": [],
   "source": [
    "import numpy as np\n",
    "\n",
    "# Criando um array\n",
    "numeros = np.array([1, 2, 3, 4, 5])\n",
    "\n",
    "# Operações básicas\n",
    "soma = np.sum(numeros)  # Soma dos elementos\n",
    "media = np.mean(numeros)  # Média dos elementos\n",
    "\n",
    "print(\"Soma dos números:\", soma)\n",
    "print(\"Média dos números:\", media)\n",
    "\n",
    "# Multiplicando todos os elementos por 2\n",
    "print(numeros * 2)  # Saída: [2, 4, 6, 8, 10]"
   ]
  },
  {
   "cell_type": "markdown",
   "id": "f8de0393-95ac-4372-8145-3fb77ef51c6b",
   "metadata": {},
   "source": [
    "### **3. Tuples (Tuplas)**\n",
    "### O que são?\n",
    "* Tuplas são coleções ordenadas e imutáveis de itens.\n",
    "\n",
    "* São representadas por parênteses ().\n",
    "\n",
    "* Podem armazenar diferentes tipos de dados (números, strings, outras tuplas, etc.).\n",
    "\n",
    "### Características:\n",
    "* Ordenadas: Os itens têm uma posição definida (índice).\n",
    "\n",
    "* Imutáveis: Uma vez criadas, não podem ser modificadas (não é possível adicionar, remover ou alterar itens).\n",
    "\n",
    "* Acesso por índice: Podemos acessar itens usando sua posição (ex: tupla[0] para o primeiro item)."
   ]
  },
  {
   "cell_type": "code",
   "execution_count": null,
   "id": "f678df68-961b-4225-aff8-4f105d398bf4",
   "metadata": {},
   "outputs": [],
   "source": [
    "# Criando uma tupla\n",
    "coordenadas = (10, 20)\n",
    "\n",
    "# Acessando itens\n",
    "print(coordenadas[0])  # Saída: 10\n",
    "\n",
    "# Tentativa de modificar (gera erro)\n",
    "# coordenadas[0] = 15  # TypeError: 'tuple' object does not support item assignment"
   ]
  },
  {
   "cell_type": "markdown",
   "id": "97b986d8-99f8-4281-8d53-f0398739f92c",
   "metadata": {},
   "source": [
    "### **4. Dicionários**\n",
    "\n",
    "### **O que são?**\n",
    "- **Dicionários** são coleções **não ordenadas** de pares **chave-valor**.\n",
    "- São representados por chaves `{}`.\n",
    "- Cada valor é associado a uma chave única, que pode ser usada para acessá-lo.\n",
    "\n",
    "### **Características**:\n",
    "- **Não ordenados**: Antes do Python 3.7, a ordem dos itens não era garantida. A partir do Python 3.7, a ordem de inserção é mantida.\n",
    "- **Mutáveis**: Podemos adicionar, remover ou modificar itens após a criação.\n",
    "- **Acesso por chave**: Podemos acessar valores usando suas chaves (ex: `dicionario[\"chave\"]`).\n",
    "- **Quando usar?**: Quando você precisa armazenar dados com identificadores únicos (chaves). Por exemplo: Banco de dados simples, configurações, etc.\n"
   ]
  },
  {
   "cell_type": "code",
   "execution_count": null,
   "id": "87484ded-3d35-44ed-836d-a6d365cc9eb3",
   "metadata": {},
   "outputs": [],
   "source": [
    "# Criando um dicionário\n",
    "aluno = {\n",
    "    \"nome\": \"Maria\",\n",
    "    \"idade\": 22,\n",
    "    \"nota\": 9.5\n",
    "}\n",
    "\n",
    "# Acessando valores\n",
    "print(\"Nome do aluno:\", aluno[\"nome\"])\n",
    "print(\"Idade do aluno:\", aluno[\"idade\"])\n",
    "\n",
    "# Adicionando e removendo itens\n",
    "aluno[\"curso\"] = \"Ciência da Computação\"  # Adiciona um novo item\n",
    "del aluno[\"nota\"]  # Remove o item \"nota\"\n",
    "\n",
    "# Métodos comuns\n",
    "print(\"Chaves do dicionário:\", aluno.keys())\n",
    "print(\"Valores do dicionário:\", aluno.values())\n",
    "print(\"Itens do dicionário:\", aluno.items())"
   ]
  },
  {
   "cell_type": "code",
   "execution_count": null,
   "id": "c995d87c-b6f2-423b-9e03-2de974fc595b",
   "metadata": {},
   "outputs": [],
   "source": [
    "# Criando conjuntos\n",
    "frutas1 = {\"maçã\", \"banana\", \"laranja\"}\n",
    "frutas2 = {\"banana\", \"uva\", \"pera\"}\n",
    "\n",
    "# Operações com conjuntos\n",
    "uniao = frutas1.union(frutas2)  # União\n",
    "intersecao = frutas1.intersection(frutas2)  # Interseção\n",
    "diferenca = frutas1.difference(frutas2)  # Diferença\n",
    "\n",
    "print(\"União:\", uniao)\n",
    "print(\"Interseção:\", intersecao)\n",
    "print(\"Diferença (frutas1 - frutas2):\", diferenca)"
   ]
  },
  {
   "cell_type": "markdown",
   "id": "afcc2e84-d4ac-4b1e-8ced-e1d8fb49a1db",
   "metadata": {},
   "source": [
    "### **4. Set (Conjuntos)**\n",
    "### **O que são?**\n",
    "\n",
    "- **Conjuntos** são coleções **não ordenadas** e **sem elementos duplicados**.\n",
    "- São representados por chaves `{}` (mas sem pares chave-valor, apenas valores).\n",
    "- Úteis para operações matemáticas como união, interseção e diferença.\n",
    "\n",
    "---\n",
    "\n",
    "### **Características dos Conjuntos**\n",
    "\n",
    "1. **Não ordenados**: Os itens não têm uma posição definida.\n",
    "2. **Sem duplicatas**: Cada item é único. Se você tentar adicionar um item que já existe, ele será ignorado.\n",
    "3. **Mutáveis**: Podemos adicionar ou remover itens após a criação.\n"
   ]
  },
  {
   "cell_type": "markdown",
   "id": "7893bf2f-317b-4a9b-a37f-fa225f0ca617",
   "metadata": {},
   "source": [
    "# Resumo das Estruturas de Dados em Python\n",
    "\n",
    "| Estrutura     | Ordenada | Mutável | Duplicatas | Acesso               | Quando usar?                          |\n",
    "|---------------|----------|---------|------------|----------------------|---------------------------------------|\n",
    "| **Lista**     | Sim      | Sim     | Sim        | Por índice           | Coleções ordenadas e modificáveis.    |\n",
    "| **Array**     | Sim      | Sim     | Sim        | Por índice           | Cálculos numéricos e científicos.     |\n",
    "| **Tuplas**     | Sim      | Não     | Sim        | Por índice           | Coleções imutáveis e ordenadas.     |\n",
    "| **Dicionário**| Não*     | Sim     | Chaves únicas | Por chave           | Dados com identificadores únicos.     |\n",
    "| **Set (Conjunto)**  | Não      | Sim     | Não        | Não há acesso direto | Itens únicos ou operações de conjuntos. |\n",
    "\n",
    "\\* A partir do Python 3.7, dicionários mantêm a ordem de inserção.\n"
   ]
  },
  {
   "cell_type": "code",
   "execution_count": null,
   "id": "02f7530f-0acb-4ed5-bdc8-516032db443b",
   "metadata": {},
   "outputs": [],
   "source": [
    "f-string, format"
   ]
  },
  {
   "cell_type": "code",
   "execution_count": null,
   "id": "cc29d136-f64c-47c3-ada3-3a5def0492bc",
   "metadata": {},
   "outputs": [],
   "source": [
    "f-string, format"
   ]
  },
  {
   "cell_type": "code",
   "execution_count": null,
   "id": "3f91df84-95db-4a5a-9563-585b399586c1",
   "metadata": {},
   "outputs": [],
   "source": [
    "Gerar nome de arquivo csv para cada dia"
   ]
  },
  {
   "cell_type": "code",
   "execution_count": null,
   "id": "ab33a069-9cf2-48ba-b7ed-80ba2ab013cc",
   "metadata": {},
   "outputs": [],
   "source": [
    "lista = []\n",
    "for i in i:\n",
    "    nome\n",
    "    append"
   ]
  },
  {
   "cell_type": "code",
   "execution_count": null,
   "id": "aac93224-d970-44fa-9cb9-1f2638ac1a65",
   "metadata": {},
   "outputs": [],
   "source": [
    "lista = [f'resultado{}' for i in i]"
   ]
  },
  {
   "cell_type": "code",
   "execution_count": null,
   "id": "0043304a-c544-4bb0-a20c-b0f19c813bff",
   "metadata": {},
   "outputs": [],
   "source": [
    "Adicionar condições"
   ]
  },
  {
   "cell_type": "markdown",
   "id": "55b3defd-cfe4-4b5f-ba5f-11f8f12048e3",
   "metadata": {},
   "source": [
    "## Dates and times"
   ]
  },
  {
   "cell_type": "code",
   "execution_count": null,
   "id": "215991e0-99cb-4f0c-9d5b-3ab4b53eac62",
   "metadata": {},
   "outputs": [],
   "source": [
    "Abertura de arquivos, salvar etc"
   ]
  },
  {
   "cell_type": "markdown",
   "id": "a99d2127-6ab7-458a-a64c-a3f49aadf94a",
   "metadata": {},
   "source": [
    "## Classes e objetos em python"
   ]
  },
  {
   "cell_type": "markdown",
   "id": "47414e78-67dd-4a9a-be58-9964ff975843",
   "metadata": {},
   "source": [
    "Apply"
   ]
  },
  {
   "cell_type": "code",
   "execution_count": null,
   "id": "5e233bbb-97af-4b05-91ae-ca8a84628917",
   "metadata": {},
   "outputs": [],
   "source": [
    "numpy"
   ]
  },
  {
   "cell_type": "code",
   "execution_count": null,
   "id": "fe6df998-b63c-49e5-a7d6-4375387030b8",
   "metadata": {},
   "outputs": [],
   "source": [
    "scipy"
   ]
  },
  {
   "cell_type": "code",
   "execution_count": null,
   "id": "cedf424d-adc3-430e-893a-19e8b8a8992b",
   "metadata": {},
   "outputs": [],
   "source": [
    "pandas"
   ]
  },
  {
   "cell_type": "code",
   "execution_count": null,
   "id": "8f21c1c9-fdae-4002-acaf-5f95ada6a554",
   "metadata": {},
   "outputs": [],
   "source": [
    "matplotlib"
   ]
  },
  {
   "cell_type": "code",
   "execution_count": null,
   "id": "606b06b5-85f3-44ff-8f65-ba599091893b",
   "metadata": {},
   "outputs": [],
   "source": [
    "seaborn"
   ]
  },
  {
   "cell_type": "code",
   "execution_count": null,
   "id": "9f7c7256-26f4-4502-90e4-af0dc6d04e79",
   "metadata": {},
   "outputs": [],
   "source": [
    "sklearn"
   ]
  },
  {
   "cell_type": "code",
   "execution_count": null,
   "id": "7440abe4-7f85-4c78-8081-2528b962ae9d",
   "metadata": {},
   "outputs": [],
   "source": [
    "virtual envs"
   ]
  },
  {
   "cell_type": "code",
   "execution_count": null,
   "id": "32fdb081-4d2a-4b03-8370-44b5b2aa2788",
   "metadata": {},
   "outputs": [],
   "source": [
    "CRISPDM"
   ]
  }
 ],
 "metadata": {
  "kernelspec": {
   "display_name": "Python 3 (ipykernel)",
   "language": "python",
   "name": "python3"
  },
  "language_info": {
   "codemirror_mode": {
    "name": "ipython",
    "version": 3
   },
   "file_extension": ".py",
   "mimetype": "text/x-python",
   "name": "python",
   "nbconvert_exporter": "python",
   "pygments_lexer": "ipython3",
   "version": "3.12.2"
  }
 },
 "nbformat": 4,
 "nbformat_minor": 5
}
